{
 "cells": [
  {
   "cell_type": "markdown",
   "metadata": {},
   "source": [
    "Exploratory Data Analysis  of the dataset "
   ]
  },
  {
   "cell_type": "code",
   "execution_count": 7,
   "metadata": {},
   "outputs": [],
   "source": [
    "\n",
    "\n",
    "\n",
    "import pandas as pd\n",
    "\n",
    "import matplotlib.pyplot as plt\n",
    "import seaborn as sns \n",
    "\n"
   ]
  },
  {
   "cell_type": "code",
   "execution_count": 8,
   "metadata": {},
   "outputs": [
    {
     "output_type": "execute_result",
     "data": {
      "text/plain": "   400       402       405       407       410       412       415       417  \\\n0  0.0 -0.015237 -0.030607 -0.038309 -0.039078 -0.035809 -0.031176 -0.030395   \n1  0.0 -0.012098 -0.028164 -0.035189 -0.036138 -0.031050 -0.026015 -0.027539   \n2  0.0 -0.013000 -0.029058 -0.035021 -0.034994 -0.033025 -0.028413 -0.028470   \n3  0.0 -0.015728 -0.034346 -0.045140 -0.047671 -0.044334 -0.040807 -0.040474   \n4  0.0 -0.020355 -0.045839 -0.060556 -0.065805 -0.064988 -0.062097 -0.061955   \n\n        420       422  ...      2101      2103      2104      2105      2107  \\\n0 -0.033311 -0.031603  ... -0.000553  0.000118  0.000566  0.001245  0.000846   \n1 -0.028084 -0.027075  ... -0.000998  0.000278 -0.000123  0.000384  0.001010   \n2 -0.029737 -0.029198  ... -0.001554  0.000050  0.000866  0.000877  0.000871   \n3 -0.041417 -0.040699  ... -0.001541 -0.000198  0.000202  0.001023  0.000625   \n4 -0.064759 -0.066886  ... -0.000088  0.000891  0.000942  0.001294  0.001878   \n\n       2108      2109      2111  2112  diagnostic  \n0  0.001106  0.001005  0.000117   0.0     Healthy  \n1  0.000583 -0.000397 -0.000160   0.0     Healthy  \n2  0.001093  0.001058  0.000614   0.0     Healthy  \n3  0.000420  0.000543 -0.000071   0.0     Healthy  \n4  0.001739  0.001946  0.001301   0.0     Healthy  \n\n[5 rows x 901 columns]",
      "text/html": "<div>\n<style scoped>\n    .dataframe tbody tr th:only-of-type {\n        vertical-align: middle;\n    }\n\n    .dataframe tbody tr th {\n        vertical-align: top;\n    }\n\n    .dataframe thead th {\n        text-align: right;\n    }\n</style>\n<table border=\"1\" class=\"dataframe\">\n  <thead>\n    <tr style=\"text-align: right;\">\n      <th></th>\n      <th>400</th>\n      <th>402</th>\n      <th>405</th>\n      <th>407</th>\n      <th>410</th>\n      <th>412</th>\n      <th>415</th>\n      <th>417</th>\n      <th>420</th>\n      <th>422</th>\n      <th>...</th>\n      <th>2101</th>\n      <th>2103</th>\n      <th>2104</th>\n      <th>2105</th>\n      <th>2107</th>\n      <th>2108</th>\n      <th>2109</th>\n      <th>2111</th>\n      <th>2112</th>\n      <th>diagnostic</th>\n    </tr>\n  </thead>\n  <tbody>\n    <tr>\n      <th>0</th>\n      <td>0.0</td>\n      <td>-0.015237</td>\n      <td>-0.030607</td>\n      <td>-0.038309</td>\n      <td>-0.039078</td>\n      <td>-0.035809</td>\n      <td>-0.031176</td>\n      <td>-0.030395</td>\n      <td>-0.033311</td>\n      <td>-0.031603</td>\n      <td>...</td>\n      <td>-0.000553</td>\n      <td>0.000118</td>\n      <td>0.000566</td>\n      <td>0.001245</td>\n      <td>0.000846</td>\n      <td>0.001106</td>\n      <td>0.001005</td>\n      <td>0.000117</td>\n      <td>0.0</td>\n      <td>Healthy</td>\n    </tr>\n    <tr>\n      <th>1</th>\n      <td>0.0</td>\n      <td>-0.012098</td>\n      <td>-0.028164</td>\n      <td>-0.035189</td>\n      <td>-0.036138</td>\n      <td>-0.031050</td>\n      <td>-0.026015</td>\n      <td>-0.027539</td>\n      <td>-0.028084</td>\n      <td>-0.027075</td>\n      <td>...</td>\n      <td>-0.000998</td>\n      <td>0.000278</td>\n      <td>-0.000123</td>\n      <td>0.000384</td>\n      <td>0.001010</td>\n      <td>0.000583</td>\n      <td>-0.000397</td>\n      <td>-0.000160</td>\n      <td>0.0</td>\n      <td>Healthy</td>\n    </tr>\n    <tr>\n      <th>2</th>\n      <td>0.0</td>\n      <td>-0.013000</td>\n      <td>-0.029058</td>\n      <td>-0.035021</td>\n      <td>-0.034994</td>\n      <td>-0.033025</td>\n      <td>-0.028413</td>\n      <td>-0.028470</td>\n      <td>-0.029737</td>\n      <td>-0.029198</td>\n      <td>...</td>\n      <td>-0.001554</td>\n      <td>0.000050</td>\n      <td>0.000866</td>\n      <td>0.000877</td>\n      <td>0.000871</td>\n      <td>0.001093</td>\n      <td>0.001058</td>\n      <td>0.000614</td>\n      <td>0.0</td>\n      <td>Healthy</td>\n    </tr>\n    <tr>\n      <th>3</th>\n      <td>0.0</td>\n      <td>-0.015728</td>\n      <td>-0.034346</td>\n      <td>-0.045140</td>\n      <td>-0.047671</td>\n      <td>-0.044334</td>\n      <td>-0.040807</td>\n      <td>-0.040474</td>\n      <td>-0.041417</td>\n      <td>-0.040699</td>\n      <td>...</td>\n      <td>-0.001541</td>\n      <td>-0.000198</td>\n      <td>0.000202</td>\n      <td>0.001023</td>\n      <td>0.000625</td>\n      <td>0.000420</td>\n      <td>0.000543</td>\n      <td>-0.000071</td>\n      <td>0.0</td>\n      <td>Healthy</td>\n    </tr>\n    <tr>\n      <th>4</th>\n      <td>0.0</td>\n      <td>-0.020355</td>\n      <td>-0.045839</td>\n      <td>-0.060556</td>\n      <td>-0.065805</td>\n      <td>-0.064988</td>\n      <td>-0.062097</td>\n      <td>-0.061955</td>\n      <td>-0.064759</td>\n      <td>-0.066886</td>\n      <td>...</td>\n      <td>-0.000088</td>\n      <td>0.000891</td>\n      <td>0.000942</td>\n      <td>0.001294</td>\n      <td>0.001878</td>\n      <td>0.001739</td>\n      <td>0.001946</td>\n      <td>0.001301</td>\n      <td>0.0</td>\n      <td>Healthy</td>\n    </tr>\n  </tbody>\n</table>\n<p>5 rows × 901 columns</p>\n</div>"
     },
     "metadata": {},
     "execution_count": 8
    }
   ],
   "source": [
    "df=pd.read_csv('covid_and_healthy_spectra.csv')\n",
    "\n",
    "df.head()"
   ]
  },
  {
   "cell_type": "code",
   "execution_count": 9,
   "metadata": {},
   "outputs": [
    {
     "output_type": "execute_result",
     "data": {
      "text/plain": "(309, 901)"
     },
     "metadata": {},
     "execution_count": 9
    }
   ],
   "source": [
    "df.shape"
   ]
  },
  {
   "cell_type": "markdown",
   "metadata": {},
   "source": [
    "There are  309 rows and 901 columns in the data . Which may lead to overfitting . So,we need to reduce the number of features to make the prediction task.  \n",
    "Lasso regresssion seems to be a better option as it reduces number of features. "
   ]
  },
  {
   "cell_type": "code",
   "execution_count": 10,
   "metadata": {},
   "outputs": [
    {
     "output_type": "execute_result",
     "data": {
      "text/plain": "      400       402       405       407       410       412       415  \\\n400   NaN       NaN       NaN       NaN       NaN       NaN       NaN   \n402   NaN  1.000000  0.868334  0.743209  0.710465  0.697363  0.725670   \n405   NaN  0.868334  1.000000  0.969153  0.950366  0.937134  0.935403   \n407   NaN  0.743209  0.969153  1.000000  0.993701  0.982055  0.968134   \n410   NaN  0.710465  0.950366  0.993701  1.000000  0.991766  0.975632   \n...   ...       ...       ...       ...       ...       ...       ...   \n2107  NaN  0.109409  0.014377 -0.047667 -0.053942 -0.031405  0.006487   \n2108  NaN  0.093717  0.008923 -0.050834 -0.052125 -0.034914 -0.007962   \n2109  NaN  0.075427 -0.007198 -0.063360 -0.066620 -0.048111 -0.020250   \n2111  NaN  0.075324 -0.019804 -0.070105 -0.073861 -0.055178 -0.024302   \n2112  NaN  0.039602  0.057862  0.065881  0.057573  0.060456  0.064485   \n\n           417       420       422  ...      2100      2101      2103  \\\n400        NaN       NaN       NaN  ...       NaN       NaN       NaN   \n402   0.792408  0.813504  0.807931  ... -0.136898 -0.024881  0.088624   \n405   0.955384  0.968244  0.968111  ... -0.091585 -0.044301  0.002989   \n407   0.962739  0.966868  0.967240  ... -0.075021 -0.055845 -0.054642   \n410   0.964094  0.962466  0.960215  ... -0.069149 -0.059554 -0.059928   \n...        ...       ...       ...  ...       ...       ...       ...   \n2107  0.038942  0.034891  0.038937  ...  0.582917  0.653254  0.735838   \n2108  0.013462  0.018190  0.020346  ...  0.635459  0.675193  0.738895   \n2109 -0.002700 -0.006104 -0.009387  ...  0.599741  0.626044  0.656526   \n2111 -0.009142 -0.023149 -0.024745  ...  0.523566  0.543517  0.574267   \n2112  0.071073  0.065841  0.060482  ...  0.026873  0.047620  0.001733   \n\n          2104      2105      2107      2108      2109      2111      2112  \n400        NaN       NaN       NaN       NaN       NaN       NaN       NaN  \n402   0.103559  0.074483  0.109409  0.093717  0.075427  0.075324  0.039602  \n405   0.017520 -0.042654  0.014377  0.008923 -0.007198 -0.019804  0.057862  \n407  -0.043053 -0.106426 -0.047667 -0.050834 -0.063360 -0.070105  0.065881  \n410  -0.049824 -0.114140 -0.053942 -0.052125 -0.066620 -0.073861  0.057573  \n...        ...       ...       ...       ...       ...       ...       ...  \n2107  0.761001  0.870787  1.000000  0.818944  0.654563  0.537270 -0.037246  \n2108  0.735510  0.722911  0.818944  1.000000  0.837029  0.581482 -0.012527  \n2109  0.645163  0.656798  0.654563  0.837029  1.000000  0.777614  0.043837  \n2111  0.600438  0.585064  0.537270  0.581482  0.777614  1.000000  0.029048  \n2112  0.045075  0.020566 -0.037246 -0.012527  0.043837  0.029048  1.000000  \n\n[900 rows x 900 columns]",
      "text/html": "<div>\n<style scoped>\n    .dataframe tbody tr th:only-of-type {\n        vertical-align: middle;\n    }\n\n    .dataframe tbody tr th {\n        vertical-align: top;\n    }\n\n    .dataframe thead th {\n        text-align: right;\n    }\n</style>\n<table border=\"1\" class=\"dataframe\">\n  <thead>\n    <tr style=\"text-align: right;\">\n      <th></th>\n      <th>400</th>\n      <th>402</th>\n      <th>405</th>\n      <th>407</th>\n      <th>410</th>\n      <th>412</th>\n      <th>415</th>\n      <th>417</th>\n      <th>420</th>\n      <th>422</th>\n      <th>...</th>\n      <th>2100</th>\n      <th>2101</th>\n      <th>2103</th>\n      <th>2104</th>\n      <th>2105</th>\n      <th>2107</th>\n      <th>2108</th>\n      <th>2109</th>\n      <th>2111</th>\n      <th>2112</th>\n    </tr>\n  </thead>\n  <tbody>\n    <tr>\n      <th>400</th>\n      <td>NaN</td>\n      <td>NaN</td>\n      <td>NaN</td>\n      <td>NaN</td>\n      <td>NaN</td>\n      <td>NaN</td>\n      <td>NaN</td>\n      <td>NaN</td>\n      <td>NaN</td>\n      <td>NaN</td>\n      <td>...</td>\n      <td>NaN</td>\n      <td>NaN</td>\n      <td>NaN</td>\n      <td>NaN</td>\n      <td>NaN</td>\n      <td>NaN</td>\n      <td>NaN</td>\n      <td>NaN</td>\n      <td>NaN</td>\n      <td>NaN</td>\n    </tr>\n    <tr>\n      <th>402</th>\n      <td>NaN</td>\n      <td>1.000000</td>\n      <td>0.868334</td>\n      <td>0.743209</td>\n      <td>0.710465</td>\n      <td>0.697363</td>\n      <td>0.725670</td>\n      <td>0.792408</td>\n      <td>0.813504</td>\n      <td>0.807931</td>\n      <td>...</td>\n      <td>-0.136898</td>\n      <td>-0.024881</td>\n      <td>0.088624</td>\n      <td>0.103559</td>\n      <td>0.074483</td>\n      <td>0.109409</td>\n      <td>0.093717</td>\n      <td>0.075427</td>\n      <td>0.075324</td>\n      <td>0.039602</td>\n    </tr>\n    <tr>\n      <th>405</th>\n      <td>NaN</td>\n      <td>0.868334</td>\n      <td>1.000000</td>\n      <td>0.969153</td>\n      <td>0.950366</td>\n      <td>0.937134</td>\n      <td>0.935403</td>\n      <td>0.955384</td>\n      <td>0.968244</td>\n      <td>0.968111</td>\n      <td>...</td>\n      <td>-0.091585</td>\n      <td>-0.044301</td>\n      <td>0.002989</td>\n      <td>0.017520</td>\n      <td>-0.042654</td>\n      <td>0.014377</td>\n      <td>0.008923</td>\n      <td>-0.007198</td>\n      <td>-0.019804</td>\n      <td>0.057862</td>\n    </tr>\n    <tr>\n      <th>407</th>\n      <td>NaN</td>\n      <td>0.743209</td>\n      <td>0.969153</td>\n      <td>1.000000</td>\n      <td>0.993701</td>\n      <td>0.982055</td>\n      <td>0.968134</td>\n      <td>0.962739</td>\n      <td>0.966868</td>\n      <td>0.967240</td>\n      <td>...</td>\n      <td>-0.075021</td>\n      <td>-0.055845</td>\n      <td>-0.054642</td>\n      <td>-0.043053</td>\n      <td>-0.106426</td>\n      <td>-0.047667</td>\n      <td>-0.050834</td>\n      <td>-0.063360</td>\n      <td>-0.070105</td>\n      <td>0.065881</td>\n    </tr>\n    <tr>\n      <th>410</th>\n      <td>NaN</td>\n      <td>0.710465</td>\n      <td>0.950366</td>\n      <td>0.993701</td>\n      <td>1.000000</td>\n      <td>0.991766</td>\n      <td>0.975632</td>\n      <td>0.964094</td>\n      <td>0.962466</td>\n      <td>0.960215</td>\n      <td>...</td>\n      <td>-0.069149</td>\n      <td>-0.059554</td>\n      <td>-0.059928</td>\n      <td>-0.049824</td>\n      <td>-0.114140</td>\n      <td>-0.053942</td>\n      <td>-0.052125</td>\n      <td>-0.066620</td>\n      <td>-0.073861</td>\n      <td>0.057573</td>\n    </tr>\n    <tr>\n      <th>...</th>\n      <td>...</td>\n      <td>...</td>\n      <td>...</td>\n      <td>...</td>\n      <td>...</td>\n      <td>...</td>\n      <td>...</td>\n      <td>...</td>\n      <td>...</td>\n      <td>...</td>\n      <td>...</td>\n      <td>...</td>\n      <td>...</td>\n      <td>...</td>\n      <td>...</td>\n      <td>...</td>\n      <td>...</td>\n      <td>...</td>\n      <td>...</td>\n      <td>...</td>\n      <td>...</td>\n    </tr>\n    <tr>\n      <th>2107</th>\n      <td>NaN</td>\n      <td>0.109409</td>\n      <td>0.014377</td>\n      <td>-0.047667</td>\n      <td>-0.053942</td>\n      <td>-0.031405</td>\n      <td>0.006487</td>\n      <td>0.038942</td>\n      <td>0.034891</td>\n      <td>0.038937</td>\n      <td>...</td>\n      <td>0.582917</td>\n      <td>0.653254</td>\n      <td>0.735838</td>\n      <td>0.761001</td>\n      <td>0.870787</td>\n      <td>1.000000</td>\n      <td>0.818944</td>\n      <td>0.654563</td>\n      <td>0.537270</td>\n      <td>-0.037246</td>\n    </tr>\n    <tr>\n      <th>2108</th>\n      <td>NaN</td>\n      <td>0.093717</td>\n      <td>0.008923</td>\n      <td>-0.050834</td>\n      <td>-0.052125</td>\n      <td>-0.034914</td>\n      <td>-0.007962</td>\n      <td>0.013462</td>\n      <td>0.018190</td>\n      <td>0.020346</td>\n      <td>...</td>\n      <td>0.635459</td>\n      <td>0.675193</td>\n      <td>0.738895</td>\n      <td>0.735510</td>\n      <td>0.722911</td>\n      <td>0.818944</td>\n      <td>1.000000</td>\n      <td>0.837029</td>\n      <td>0.581482</td>\n      <td>-0.012527</td>\n    </tr>\n    <tr>\n      <th>2109</th>\n      <td>NaN</td>\n      <td>0.075427</td>\n      <td>-0.007198</td>\n      <td>-0.063360</td>\n      <td>-0.066620</td>\n      <td>-0.048111</td>\n      <td>-0.020250</td>\n      <td>-0.002700</td>\n      <td>-0.006104</td>\n      <td>-0.009387</td>\n      <td>...</td>\n      <td>0.599741</td>\n      <td>0.626044</td>\n      <td>0.656526</td>\n      <td>0.645163</td>\n      <td>0.656798</td>\n      <td>0.654563</td>\n      <td>0.837029</td>\n      <td>1.000000</td>\n      <td>0.777614</td>\n      <td>0.043837</td>\n    </tr>\n    <tr>\n      <th>2111</th>\n      <td>NaN</td>\n      <td>0.075324</td>\n      <td>-0.019804</td>\n      <td>-0.070105</td>\n      <td>-0.073861</td>\n      <td>-0.055178</td>\n      <td>-0.024302</td>\n      <td>-0.009142</td>\n      <td>-0.023149</td>\n      <td>-0.024745</td>\n      <td>...</td>\n      <td>0.523566</td>\n      <td>0.543517</td>\n      <td>0.574267</td>\n      <td>0.600438</td>\n      <td>0.585064</td>\n      <td>0.537270</td>\n      <td>0.581482</td>\n      <td>0.777614</td>\n      <td>1.000000</td>\n      <td>0.029048</td>\n    </tr>\n    <tr>\n      <th>2112</th>\n      <td>NaN</td>\n      <td>0.039602</td>\n      <td>0.057862</td>\n      <td>0.065881</td>\n      <td>0.057573</td>\n      <td>0.060456</td>\n      <td>0.064485</td>\n      <td>0.071073</td>\n      <td>0.065841</td>\n      <td>0.060482</td>\n      <td>...</td>\n      <td>0.026873</td>\n      <td>0.047620</td>\n      <td>0.001733</td>\n      <td>0.045075</td>\n      <td>0.020566</td>\n      <td>-0.037246</td>\n      <td>-0.012527</td>\n      <td>0.043837</td>\n      <td>0.029048</td>\n      <td>1.000000</td>\n    </tr>\n  </tbody>\n</table>\n<p>900 rows × 900 columns</p>\n</div>"
     },
     "metadata": {},
     "execution_count": 10
    }
   ],
   "source": [
    "#  calculating pearson correlation of features . \n",
    "\n",
    "df.corr(method='pearson')"
   ]
  },
  {
   "cell_type": "code",
   "execution_count": null,
   "metadata": {},
   "outputs": [],
   "source": []
  }
 ],
 "metadata": {
  "language_info": {
   "codemirror_mode": {
    "name": "ipython",
    "version": 3
   },
   "file_extension": ".py",
   "mimetype": "text/x-python",
   "name": "python",
   "nbconvert_exporter": "python",
   "pygments_lexer": "ipython3",
   "version": "3.7.6-final"
  },
  "orig_nbformat": 2,
  "kernelspec": {
   "name": "python37664bitbaseconda1797e552aaed4aa2a89714ce42e19bf2",
   "display_name": "Python 3.7.6 64-bit ('base': conda)"
  }
 },
 "nbformat": 4,
 "nbformat_minor": 2
}